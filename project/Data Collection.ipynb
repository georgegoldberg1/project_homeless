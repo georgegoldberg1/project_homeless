{
 "cells": [
  {
   "cell_type": "markdown",
   "id": "2b48ac69",
   "metadata": {},
   "source": [
    "Resources/raw data:\n",
    "\n",
    "Quarterly - Statutory homelessness 2014-2015  \n",
    "Quarterly - Statutory homelessness and prevention and relief 2015-2018  \n",
    "Quarterly - Statutory homelessness 2018-present (till Dec 2021 (released march22)  \n",
    "Annual report - Rrough sleeping 2010-2022  \n",
    "Annual report - Homelessness prevention and relief 2010-2015  \n",
    "\n",
    "DATA FROM 2010 - 2022 [link](https://www.gov.uk/government/collections/homelessness-statistics)\n",
    "\n",
    "\"LIVE\" TABLES?? [link](https://www.gov.uk/government/statistical-data-sets/live-tables-on-homelessness)"
   ]
  },
  {
   "cell_type": "code",
   "execution_count": 1,
   "id": "1dc402a4",
   "metadata": {},
   "outputs": [],
   "source": [
    "raw_data_folder = '01 raw_data'\n",
    "cleaned_data_folder = '02 cleaned_data'"
   ]
  },
  {
   "cell_type": "code",
   "execution_count": 2,
   "id": "b05373a8",
   "metadata": {},
   "outputs": [],
   "source": [
    "import pandas as pd\n",
    "\n",
    "import matplotlib as mpl\n",
    "import matplotlib.pyplot as plt\n",
    "%matplotlib inline\n",
    "# plt.style.use('seaborn-colorblind')\n",
    "\n",
    "from get_files import get_files"
   ]
  },
  {
   "cell_type": "markdown",
   "id": "4f48388f",
   "metadata": {},
   "source": [
    "# READ FIRST SHEETS (A1 sheet)"
   ]
  },
  {
   "cell_type": "code",
   "execution_count": 3,
   "id": "c733e478",
   "metadata": {
    "scrolled": true
   },
   "outputs": [
    {
     "name": "stdout",
     "output_type": "stream",
     "text": [
      "Loading files:\n",
      "..  01 raw_data/DetailedLA_202003.ods ..done\n",
      "..  01 raw_data/DetailedLA_202006.ods ..done\n",
      "..  01 raw_data/DetailedLA_202009_REVISED.ods ..done\n",
      "..  01 raw_data/DetailedLA_202012.ods ..done\n",
      "..  01 raw_data/DetailedLA_202103_revised.ods ..done\n",
      "..  01 raw_data/DetailedLA_202106.ods ..done\n",
      "..  01 raw_data/DetailedLA_202109_fixed.ods ..done\n",
      "..  01 raw_data/DetailedLA_202112.ods ..done\n",
      "..  01 raw_data/Detailed_LA_202203.ods ..done\n",
      "..  01 raw_data/DetailedLA_201806.xlsx .."
     ]
    },
    {
     "name": "stderr",
     "output_type": "stream",
     "text": [
      "/home/georgegoldberg/.local/lib/python3.10/site-packages/openpyxl/worksheet/_reader.py:312: UserWarning: Data Validation extension is not supported and will be removed\n",
      "  warn(msg)\n",
      "/home/georgegoldberg/.local/lib/python3.10/site-packages/openpyxl/worksheet/_reader.py:312: UserWarning: Data Validation extension is not supported and will be removed\n",
      "  warn(msg)\n",
      "/home/georgegoldberg/.local/lib/python3.10/site-packages/openpyxl/worksheet/header_footer.py:48: UserWarning: Cannot parse header or footer so it will be ignored\n",
      "  warn(\"\"\"Cannot parse header or footer so it will be ignored\"\"\")\n",
      "/home/georgegoldberg/.local/lib/python3.10/site-packages/openpyxl/worksheet/_reader.py:312: UserWarning: Data Validation extension is not supported and will be removed\n",
      "  warn(msg)\n",
      "/home/georgegoldberg/.local/lib/python3.10/site-packages/openpyxl/worksheet/header_footer.py:48: UserWarning: Cannot parse header or footer so it will be ignored\n",
      "  warn(\"\"\"Cannot parse header or footer so it will be ignored\"\"\")\n",
      "/home/georgegoldberg/.local/lib/python3.10/site-packages/openpyxl/worksheet/_reader.py:312: UserWarning: Data Validation extension is not supported and will be removed\n",
      "  warn(msg)\n",
      "/home/georgegoldberg/.local/lib/python3.10/site-packages/openpyxl/worksheet/_reader.py:312: UserWarning: Data Validation extension is not supported and will be removed\n",
      "  warn(msg)\n"
     ]
    },
    {
     "name": "stdout",
     "output_type": "stream",
     "text": [
      "done\n",
      "..  01 raw_data/DetailedLA_201809.xlsx .."
     ]
    },
    {
     "name": "stderr",
     "output_type": "stream",
     "text": [
      "/home/georgegoldberg/.local/lib/python3.10/site-packages/openpyxl/worksheet/_reader.py:312: UserWarning: Data Validation extension is not supported and will be removed\n",
      "  warn(msg)\n",
      "/home/georgegoldberg/.local/lib/python3.10/site-packages/openpyxl/worksheet/_reader.py:312: UserWarning: Data Validation extension is not supported and will be removed\n",
      "  warn(msg)\n",
      "/home/georgegoldberg/.local/lib/python3.10/site-packages/openpyxl/worksheet/header_footer.py:48: UserWarning: Cannot parse header or footer so it will be ignored\n",
      "  warn(\"\"\"Cannot parse header or footer so it will be ignored\"\"\")\n",
      "/home/georgegoldberg/.local/lib/python3.10/site-packages/openpyxl/worksheet/_reader.py:312: UserWarning: Data Validation extension is not supported and will be removed\n",
      "  warn(msg)\n",
      "/home/georgegoldberg/.local/lib/python3.10/site-packages/openpyxl/worksheet/header_footer.py:48: UserWarning: Cannot parse header or footer so it will be ignored\n",
      "  warn(\"\"\"Cannot parse header or footer so it will be ignored\"\"\")\n",
      "/home/georgegoldberg/.local/lib/python3.10/site-packages/openpyxl/worksheet/_reader.py:312: UserWarning: Data Validation extension is not supported and will be removed\n",
      "  warn(msg)\n",
      "/home/georgegoldberg/.local/lib/python3.10/site-packages/openpyxl/worksheet/_reader.py:312: UserWarning: Data Validation extension is not supported and will be removed\n",
      "  warn(msg)\n"
     ]
    },
    {
     "name": "stdout",
     "output_type": "stream",
     "text": [
      "done\n",
      "..  01 raw_data/DetailedLA_201812.xlsx .."
     ]
    },
    {
     "name": "stderr",
     "output_type": "stream",
     "text": [
      "/home/georgegoldberg/.local/lib/python3.10/site-packages/openpyxl/worksheet/_reader.py:312: UserWarning: Data Validation extension is not supported and will be removed\n",
      "  warn(msg)\n",
      "/home/georgegoldberg/.local/lib/python3.10/site-packages/openpyxl/worksheet/_reader.py:312: UserWarning: Data Validation extension is not supported and will be removed\n",
      "  warn(msg)\n",
      "/home/georgegoldberg/.local/lib/python3.10/site-packages/openpyxl/worksheet/header_footer.py:48: UserWarning: Cannot parse header or footer so it will be ignored\n",
      "  warn(\"\"\"Cannot parse header or footer so it will be ignored\"\"\")\n",
      "/home/georgegoldberg/.local/lib/python3.10/site-packages/openpyxl/worksheet/_reader.py:312: UserWarning: Data Validation extension is not supported and will be removed\n",
      "  warn(msg)\n",
      "/home/georgegoldberg/.local/lib/python3.10/site-packages/openpyxl/worksheet/header_footer.py:48: UserWarning: Cannot parse header or footer so it will be ignored\n",
      "  warn(\"\"\"Cannot parse header or footer so it will be ignored\"\"\")\n",
      "/home/georgegoldberg/.local/lib/python3.10/site-packages/openpyxl/worksheet/_reader.py:312: UserWarning: Data Validation extension is not supported and will be removed\n",
      "  warn(msg)\n",
      "/home/georgegoldberg/.local/lib/python3.10/site-packages/openpyxl/worksheet/_reader.py:312: UserWarning: Data Validation extension is not supported and will be removed\n",
      "  warn(msg)\n"
     ]
    },
    {
     "name": "stdout",
     "output_type": "stream",
     "text": [
      "done\n",
      "..  01 raw_data/DetailedLA_201903_revised.xlsx .."
     ]
    },
    {
     "name": "stderr",
     "output_type": "stream",
     "text": [
      "/home/georgegoldberg/.local/lib/python3.10/site-packages/openpyxl/worksheet/_reader.py:312: UserWarning: Data Validation extension is not supported and will be removed\n",
      "  warn(msg)\n",
      "/home/georgegoldberg/.local/lib/python3.10/site-packages/openpyxl/worksheet/_reader.py:312: UserWarning: Data Validation extension is not supported and will be removed\n",
      "  warn(msg)\n",
      "/home/georgegoldberg/.local/lib/python3.10/site-packages/openpyxl/worksheet/header_footer.py:48: UserWarning: Cannot parse header or footer so it will be ignored\n",
      "  warn(\"\"\"Cannot parse header or footer so it will be ignored\"\"\")\n",
      "/home/georgegoldberg/.local/lib/python3.10/site-packages/openpyxl/worksheet/_reader.py:312: UserWarning: Data Validation extension is not supported and will be removed\n",
      "  warn(msg)\n",
      "/home/georgegoldberg/.local/lib/python3.10/site-packages/openpyxl/worksheet/header_footer.py:48: UserWarning: Cannot parse header or footer so it will be ignored\n",
      "  warn(\"\"\"Cannot parse header or footer so it will be ignored\"\"\")\n",
      "/home/georgegoldberg/.local/lib/python3.10/site-packages/openpyxl/worksheet/_reader.py:312: UserWarning: Data Validation extension is not supported and will be removed\n",
      "  warn(msg)\n",
      "/home/georgegoldberg/.local/lib/python3.10/site-packages/openpyxl/worksheet/_reader.py:312: UserWarning: Data Validation extension is not supported and will be removed\n",
      "  warn(msg)\n"
     ]
    },
    {
     "name": "stdout",
     "output_type": "stream",
     "text": [
      "done\n",
      "..  01 raw_data/DetailedLA_201906_revised.xlsx .."
     ]
    },
    {
     "name": "stderr",
     "output_type": "stream",
     "text": [
      "/home/georgegoldberg/.local/lib/python3.10/site-packages/openpyxl/worksheet/_reader.py:312: UserWarning: Data Validation extension is not supported and will be removed\n",
      "  warn(msg)\n",
      "/home/georgegoldberg/.local/lib/python3.10/site-packages/openpyxl/worksheet/_reader.py:312: UserWarning: Data Validation extension is not supported and will be removed\n",
      "  warn(msg)\n",
      "/home/georgegoldberg/.local/lib/python3.10/site-packages/openpyxl/worksheet/header_footer.py:48: UserWarning: Cannot parse header or footer so it will be ignored\n",
      "  warn(\"\"\"Cannot parse header or footer so it will be ignored\"\"\")\n",
      "/home/georgegoldberg/.local/lib/python3.10/site-packages/openpyxl/worksheet/_reader.py:312: UserWarning: Data Validation extension is not supported and will be removed\n",
      "  warn(msg)\n",
      "/home/georgegoldberg/.local/lib/python3.10/site-packages/openpyxl/worksheet/header_footer.py:48: UserWarning: Cannot parse header or footer so it will be ignored\n",
      "  warn(\"\"\"Cannot parse header or footer so it will be ignored\"\"\")\n",
      "/home/georgegoldberg/.local/lib/python3.10/site-packages/openpyxl/worksheet/_reader.py:312: UserWarning: Data Validation extension is not supported and will be removed\n",
      "  warn(msg)\n",
      "/home/georgegoldberg/.local/lib/python3.10/site-packages/openpyxl/worksheet/_reader.py:312: UserWarning: Data Validation extension is not supported and will be removed\n",
      "  warn(msg)\n"
     ]
    },
    {
     "name": "stdout",
     "output_type": "stream",
     "text": [
      "done\n",
      "..  01 raw_data/DetailedLA_201909_revised.xlsx .."
     ]
    },
    {
     "name": "stderr",
     "output_type": "stream",
     "text": [
      "/home/georgegoldberg/.local/lib/python3.10/site-packages/openpyxl/worksheet/_reader.py:312: UserWarning: Data Validation extension is not supported and will be removed\n",
      "  warn(msg)\n",
      "/home/georgegoldberg/.local/lib/python3.10/site-packages/openpyxl/worksheet/_reader.py:312: UserWarning: Data Validation extension is not supported and will be removed\n",
      "  warn(msg)\n",
      "/home/georgegoldberg/.local/lib/python3.10/site-packages/openpyxl/worksheet/header_footer.py:48: UserWarning: Cannot parse header or footer so it will be ignored\n",
      "  warn(\"\"\"Cannot parse header or footer so it will be ignored\"\"\")\n",
      "/home/georgegoldberg/.local/lib/python3.10/site-packages/openpyxl/worksheet/_reader.py:312: UserWarning: Data Validation extension is not supported and will be removed\n",
      "  warn(msg)\n",
      "/home/georgegoldberg/.local/lib/python3.10/site-packages/openpyxl/worksheet/header_footer.py:48: UserWarning: Cannot parse header or footer so it will be ignored\n",
      "  warn(\"\"\"Cannot parse header or footer so it will be ignored\"\"\")\n",
      "/home/georgegoldberg/.local/lib/python3.10/site-packages/openpyxl/worksheet/_reader.py:312: UserWarning: Data Validation extension is not supported and will be removed\n",
      "  warn(msg)\n",
      "/home/georgegoldberg/.local/lib/python3.10/site-packages/openpyxl/worksheet/_reader.py:312: UserWarning: Data Validation extension is not supported and will be removed\n",
      "  warn(msg)\n"
     ]
    },
    {
     "name": "stdout",
     "output_type": "stream",
     "text": [
      "done\n",
      "..  01 raw_data/DetailedLA_201912.xlsx .."
     ]
    },
    {
     "name": "stderr",
     "output_type": "stream",
     "text": [
      "/home/georgegoldberg/.local/lib/python3.10/site-packages/openpyxl/worksheet/_reader.py:312: UserWarning: Data Validation extension is not supported and will be removed\n",
      "  warn(msg)\n",
      "/home/georgegoldberg/.local/lib/python3.10/site-packages/openpyxl/worksheet/_reader.py:312: UserWarning: Data Validation extension is not supported and will be removed\n",
      "  warn(msg)\n",
      "/home/georgegoldberg/.local/lib/python3.10/site-packages/openpyxl/worksheet/header_footer.py:48: UserWarning: Cannot parse header or footer so it will be ignored\n",
      "  warn(\"\"\"Cannot parse header or footer so it will be ignored\"\"\")\n",
      "/home/georgegoldberg/.local/lib/python3.10/site-packages/openpyxl/worksheet/_reader.py:312: UserWarning: Data Validation extension is not supported and will be removed\n",
      "  warn(msg)\n",
      "/home/georgegoldberg/.local/lib/python3.10/site-packages/openpyxl/worksheet/header_footer.py:48: UserWarning: Cannot parse header or footer so it will be ignored\n",
      "  warn(\"\"\"Cannot parse header or footer so it will be ignored\"\"\")\n",
      "/home/georgegoldberg/.local/lib/python3.10/site-packages/openpyxl/worksheet/_reader.py:312: UserWarning: Data Validation extension is not supported and will be removed\n",
      "  warn(msg)\n",
      "/home/georgegoldberg/.local/lib/python3.10/site-packages/openpyxl/worksheet/_reader.py:312: UserWarning: Data Validation extension is not supported and will be removed\n",
      "  warn(msg)\n"
     ]
    },
    {
     "name": "stdout",
     "output_type": "stream",
     "text": [
      "done\n"
     ]
    }
   ],
   "source": [
    "ods_files = get_files(raw_data_folder, ext='ods')\n",
    "excel_files = get_files(raw_data_folder, ext='xlsx')\n",
    "\n",
    "print('Loading files:')\n",
    "\n",
    "data = []\n",
    "for f in ods_files:\n",
    "    print('.. ', f, end=' ..')\n",
    "    data.append(pd.read_excel(f, engine='odf', sheet_name='A1', na_values='..'))\n",
    "    print('done')\n",
    "    \n",
    "\n",
    "for f in excel_files:\n",
    "    print('.. ', f, end=' ..')\n",
    "    sheets = pd.read_excel(f,sheet_name=None).keys()\n",
    "    a1_sheetname = [x for x in sheets if x.startswith('A1')][0]\n",
    "    data.append(pd.read_excel(f, sheet_name=a1_sheetname, na_values='..'))\n",
    "    print('done')\n",
    "    "
   ]
  },
  {
   "cell_type": "code",
   "execution_count": 4,
   "id": "b9457000",
   "metadata": {},
   "outputs": [
    {
     "data": {
      "text/plain": [
       "16"
      ]
     },
     "execution_count": 4,
     "metadata": {},
     "output_type": "execute_result"
    }
   ],
   "source": [
    "len(excel_files) + len(ods_files)"
   ]
  },
  {
   "cell_type": "markdown",
   "id": "10b0899e",
   "metadata": {},
   "source": [
    "CLEAN FIRST SHEETS (A1 SHEET)"
   ]
  },
  {
   "cell_type": "code",
   "execution_count": 7,
   "id": "147d4867",
   "metadata": {},
   "outputs": [],
   "source": [
    "# df_a1 = pd.read_excel(\"DetailedLA_202112.ods\", engine=\"odf\", sheet_name='A1',na_values='..')\n",
    "\n",
    "cleaned_data = []\n",
    "\n",
    "for d in data:\n",
    "    df_a1 = d.copy()\n",
    "    data_start = df_a1.iloc[:,0][df_a1.iloc[:,0] == 'E92000001'].index[0]\n",
    "    notes_start = df_a1.iloc[:,0][df_a1.iloc[:,0] == 'Notes'].index[0]\n",
    "    a1_sheet = df_a1.iloc[data_start : notes_start].copy()\n",
    "\n",
    "    a1_sheet.dropna(how='all',axis=1,inplace=True)\n",
    "\n",
    "    # format numeric fields\n",
    "    for col in a1_sheet:\n",
    "        try:\n",
    "            a1_sheet[col] = a1_sheet[col].astype(float)\n",
    "        except:\n",
    "            pass\n",
    "        \n",
    "    # filter on numeric fields to remove the extra region fields\n",
    "    a1_sheet = pd.concat([\n",
    "        a1_sheet.iloc[:,:2], \n",
    "        a1_sheet.loc[:,a1_sheet.select_dtypes(include='float').columns[0]:]\n",
    "    ], axis=1)\n",
    "\n",
    "    col_names = ['LA_Code',\n",
    "    'LA_Name',\n",
    "    'Total number of households assessed1,2',\n",
    "    'Total households assessed as owed a duty',\n",
    "    'Threatened with homelessness - Prevention duty owed',\n",
    "    'Of which: due to service of valid Section 21 Notice',\n",
    "    'Homeless - Relief duty owed',\n",
    "    'Not homeless nor threatened with homelessness within 56 days - no duty owed',\n",
    "    'Number of households in area (000s)',\n",
    "    'Households assessed as threatened with homelessnessper (000s)',\n",
    "    'Households assessed as homelessper (000s)']\n",
    "\n",
    "    includes_area_popn = True if len(\n",
    "        [x for x in a1_sheet.iloc[1].values if str(x).strip().startswith(\"Number of households in area\") and \"000\" in x]\n",
    "    ) > 0 else False\n",
    "    \n",
    "    if len(a1_sheet.columns) == len(col_names):\n",
    "        a1_sheet.columns = col_names\n",
    "    elif not includes_area_popn and len(a1_sheet.columns) == (len(col_names) - 3):\n",
    "        #if missing number of hh in area\n",
    "        a1_sheet.columns = col_names[:-3]\n",
    "    else:\n",
    "        raise ValueError(f'Error: couldnt rename columns as sheet contains {len(a1_sheet.columns)} but you are trying to provide {len(col_names)} new names')\n",
    "    \n",
    "    # use the blank/null rows to locate positions of the countries, regions, authorities\n",
    "    nulls = [x for x in a1_sheet.index if x not in a1_sheet.dropna(how='all').index]\n",
    "    countries = a1_sheet.loc[:nulls[0]].dropna(how='all')\n",
    "    regions = a1_sheet.loc[nulls[0]:nulls[1]].dropna(how='all')\n",
    "    if len(nulls) <= 2:\n",
    "        authorities = a1_sheet.loc[nulls[1]:].dropna(how='all')\n",
    "    else:\n",
    "        authorities = a1_sheet.loc[nulls[1]:nulls[2]].dropna(how='all')\n",
    "    \n",
    "    # label region agg type\n",
    "    countries['region_type'] = '1 countries'\n",
    "    regions['region_type'] = '2 regions'\n",
    "    authorities['region_type'] = '3 authorities'\n",
    "    \n",
    "    # rejoin aggregations\n",
    "    output_df = pd.concat([countries, regions, authorities])\n",
    "    \n",
    "    # add date field\n",
    "    # extract report date: should be after the comma in the first field\n",
    "    report_dt_range = df_a1.columns[0].split(',')[-1].strip()\n",
    "    end_month_str = report_dt_range.split('to ')[-1]\n",
    "    end_dt = pd.Timestamp(end_month_str).to_period('M').to_timestamp('M').strftime('%Y-%m-%d')\n",
    "    start_dt = (pd.Timestamp(end_month_str) - pd.Timedelta(days=35)).strftime('%Y-%m-01')\n",
    "    \n",
    "    output_df['period_start'] = start_dt\n",
    "    output_df['period_end'] = end_dt\n",
    "    output_df['period_length'] = '3 months'\n",
    "    \n",
    "    # reorder columns\n",
    "    output_df = pd.concat([output_df.loc[:,'region_type':], output_df.loc[:,:'region_type'].drop(columns='region_type') ],axis=1)\n",
    "#     output_df[['region_type','period_start','period_end','period_length'] + list(output_df.columns[:-3])]\n",
    "    \n",
    "    # send to list for aggregation:\n",
    "    cleaned_data.append(output_df)\n",
    "    \n",
    "    # export as file\n",
    "    from pathlib import Path\n",
    "    \n",
    "    export_path = Path(cleaned_data_folder,start_dt+'_to_'+end_dt+'.csv')\n",
    "    \n",
    "    # export\n",
    "    output_df.to_csv(export_path, index=False)"
   ]
  },
  {
   "cell_type": "code",
   "execution_count": 9,
   "id": "5d7f24bd",
   "metadata": {},
   "outputs": [
    {
     "data": {
      "text/html": [
       "<div>\n",
       "<style scoped>\n",
       "    .dataframe tbody tr th:only-of-type {\n",
       "        vertical-align: middle;\n",
       "    }\n",
       "\n",
       "    .dataframe tbody tr th {\n",
       "        vertical-align: top;\n",
       "    }\n",
       "\n",
       "    .dataframe thead th {\n",
       "        text-align: right;\n",
       "    }\n",
       "</style>\n",
       "<table border=\"1\" class=\"dataframe\">\n",
       "  <thead>\n",
       "    <tr style=\"text-align: right;\">\n",
       "      <th></th>\n",
       "      <th>region_type</th>\n",
       "      <th>period_start</th>\n",
       "      <th>period_end</th>\n",
       "      <th>period_length</th>\n",
       "      <th>LA_Code</th>\n",
       "      <th>LA_Name</th>\n",
       "      <th>Total number of households assessed1,2</th>\n",
       "      <th>Total households assessed as owed a duty</th>\n",
       "      <th>Threatened with homelessness - Prevention duty owed</th>\n",
       "      <th>Of which: due to service of valid Section 21 Notice</th>\n",
       "      <th>Homeless - Relief duty owed</th>\n",
       "      <th>Not homeless nor threatened with homelessness within 56 days - no duty owed</th>\n",
       "      <th>Number of households in area (000s)</th>\n",
       "      <th>Households assessed as threatened with homelessnessper (000s)</th>\n",
       "      <th>Households assessed as homelessper (000s)</th>\n",
       "    </tr>\n",
       "  </thead>\n",
       "  <tbody>\n",
       "    <tr>\n",
       "      <th>0</th>\n",
       "      <td>1 Countries</td>\n",
       "      <td>2018-04-01</td>\n",
       "      <td>2018-06-30</td>\n",
       "      <td>3 Months</td>\n",
       "      <td>-</td>\n",
       "      <td>Rest Of England</td>\n",
       "      <td>54230.0</td>\n",
       "      <td>48630.0</td>\n",
       "      <td>27380.0</td>\n",
       "      <td>4230.0</td>\n",
       "      <td>21240.0</td>\n",
       "      <td>5610.0</td>\n",
       "      <td>NaN</td>\n",
       "      <td>NaN</td>\n",
       "      <td>NaN</td>\n",
       "    </tr>\n",
       "    <tr>\n",
       "      <th>1</th>\n",
       "      <td>1 Countries</td>\n",
       "      <td>2018-04-01</td>\n",
       "      <td>2018-06-30</td>\n",
       "      <td>3 Months</td>\n",
       "      <td>E12000007</td>\n",
       "      <td>London</td>\n",
       "      <td>13600.0</td>\n",
       "      <td>12590.0</td>\n",
       "      <td>7560.0</td>\n",
       "      <td>870.0</td>\n",
       "      <td>5030.0</td>\n",
       "      <td>1010.0</td>\n",
       "      <td>NaN</td>\n",
       "      <td>NaN</td>\n",
       "      <td>NaN</td>\n",
       "    </tr>\n",
       "    <tr>\n",
       "      <th>2</th>\n",
       "      <td>1 Countries</td>\n",
       "      <td>2018-04-01</td>\n",
       "      <td>2018-06-30</td>\n",
       "      <td>3 Months</td>\n",
       "      <td>E92000001</td>\n",
       "      <td>England</td>\n",
       "      <td>67830.0</td>\n",
       "      <td>61210.0</td>\n",
       "      <td>34940.0</td>\n",
       "      <td>5100.0</td>\n",
       "      <td>26270.0</td>\n",
       "      <td>6620.0</td>\n",
       "      <td>NaN</td>\n",
       "      <td>NaN</td>\n",
       "      <td>NaN</td>\n",
       "    </tr>\n",
       "  </tbody>\n",
       "</table>\n",
       "</div>"
      ],
      "text/plain": [
       "   region_type period_start  period_end period_length    LA_Code  \\\n",
       "0  1 Countries   2018-04-01  2018-06-30      3 Months          -   \n",
       "1  1 Countries   2018-04-01  2018-06-30      3 Months  E12000007   \n",
       "2  1 Countries   2018-04-01  2018-06-30      3 Months  E92000001   \n",
       "\n",
       "           LA_Name  Total number of households assessed1,2  \\\n",
       "0  Rest Of England                                 54230.0   \n",
       "1           London                                 13600.0   \n",
       "2          England                                 67830.0   \n",
       "\n",
       "   Total households assessed as owed a duty  \\\n",
       "0                                   48630.0   \n",
       "1                                   12590.0   \n",
       "2                                   61210.0   \n",
       "\n",
       "   Threatened with homelessness - Prevention duty owed  \\\n",
       "0                                            27380.0     \n",
       "1                                             7560.0     \n",
       "2                                            34940.0     \n",
       "\n",
       "   Of which: due to service of valid Section 21 Notice  \\\n",
       "0                                             4230.0     \n",
       "1                                              870.0     \n",
       "2                                             5100.0     \n",
       "\n",
       "   Homeless - Relief duty owed  \\\n",
       "0                      21240.0   \n",
       "1                       5030.0   \n",
       "2                      26270.0   \n",
       "\n",
       "   Not homeless nor threatened with homelessness within 56 days - no duty owed  \\\n",
       "0                                             5610.0                             \n",
       "1                                             1010.0                             \n",
       "2                                             6620.0                             \n",
       "\n",
       "   Number of households in area (000s)  \\\n",
       "0                                  NaN   \n",
       "1                                  NaN   \n",
       "2                                  NaN   \n",
       "\n",
       "   Households assessed as threatened with homelessnessper (000s)  \\\n",
       "0                                                NaN               \n",
       "1                                                NaN               \n",
       "2                                                NaN               \n",
       "\n",
       "   Households assessed as homelessper (000s)  \n",
       "0                                        NaN  \n",
       "1                                        NaN  \n",
       "2                                        NaN  "
      ]
     },
     "execution_count": 9,
     "metadata": {},
     "output_type": "execute_result"
    }
   ],
   "source": [
    "joined = pd.concat(cleaned_data,ignore_index=True)\n",
    "\n",
    "# format dates and strings\n",
    "for col in joined.select_dtypes('object'):\n",
    "    # dates\n",
    "    if joined[col].apply(lambda x:True if len(x) == 10 and x[4]=='-' and x[7]=='-' else False).sum() > 0:\n",
    "        joined[col] = pd.to_datetime(joined[col]).dt.date\n",
    "\n",
    "    # strings\n",
    "    else:\n",
    "        joined[col] = joined[col].str.strip().str.title()\n",
    "        \n",
    "# sort fields hierarchically\n",
    "joined = joined.sort_values(['period_end','region_type','LA_Code']).reset_index().drop(columns='index')\n",
    "joined.head(3)"
   ]
  },
  {
   "cell_type": "code",
   "execution_count": 10,
   "id": "5e632daf",
   "metadata": {},
   "outputs": [],
   "source": [
    "\n",
    "def get_survey_results(df, la_name='England'):\n",
    "    \"\"\"Important consideration:\n",
    "    These figures are based on those that applied for prevention or homelessness relief duty.\n",
    "    There could be many others that did not apply for whatever reason - eg:\n",
    "        distrust of local authorities, \n",
    "        access to medical care forms/the means/knowhow to get the forms etc\n",
    "        fears around immigration status that might be triggered when filling out the form\n",
    "        etc etc\n",
    "    \n",
    "    We should look at other factors to understand the true number of homeless too.eg:\n",
    "        street surveys.\n",
    "        charity estimates\n",
    "        food bank surveys?\n",
    "    \"\"\"\n",
    "    \n",
    "    renamed = df.rename(columns={\n",
    "        'Threatened with homelessness - Prevention duty owed':'applicant at risk',\n",
    "        'Homeless - Relief duty owed':'applicant homeless'\n",
    "    }).copy()\n",
    "    \n",
    "    output = renamed.query(f\"LA_Name == '{la_name}'\").set_index('period_end')[[\n",
    "        'applicant at risk','applicant homeless']].drop_duplicates()\n",
    "    \n",
    "    return output"
   ]
  },
  {
   "cell_type": "code",
   "execution_count": 11,
   "id": "4b785111",
   "metadata": {},
   "outputs": [
    {
     "data": {
      "image/png": "[encoded data removed]",
      "text/plain": [
       "<Figure size 720x288 with 4 Axes>"
      ]
     },
     "metadata": {
      "needs_background": "light"
     },
     "output_type": "display_data"
    }
   ],
   "source": [
    "fig = plt.figure(tight_layout=True, figsize=(10,4))\n",
    "\n",
    "gs = fig.add_gridspec(2,3)\n",
    "\n",
    "ax1 = fig.add_subplot(gs[:,0])\n",
    "ax2 = fig.add_subplot(gs[:,1])\n",
    "ax31 = fig.add_subplot(gs[0,2])\n",
    "ax32 = fig.add_subplot(gs[1,2])\n",
    "\n",
    "chart_ylim = {}\n",
    "\n",
    "# first 2 plots\n",
    "original_plots = {ax1:'applicant at risk',ax2:'applicant homeless'}\n",
    "for a,lab in original_plots.items():\n",
    "    # data\n",
    "    d_tmp = get_survey_results(joined)[lab]\n",
    "    \n",
    "    # plot line\n",
    "    a.plot(d_tmp, label=lab)\n",
    "    a.set_title(lab)\n",
    "\n",
    "    # set ylimit\n",
    "    mean_yval = get_survey_results(joined)[lab].mean()\n",
    "    orders_mag = len(str(int(mean_yval))) - 1\n",
    "    y_lim_rounded = round(mean_yval * 2, - orders_mag)\n",
    "    chart_ylim[lab] = y_lim_rounded\n",
    "    \n",
    "    a.set_ylim(0, chart_ylim[lab])\n",
    "    \n",
    "\n",
    "# ZOOMED IN subplots\n",
    "zoomed_plots = {ax31:'applicant at risk',ax32:'applicant homeless'}\n",
    "for a,lab in zoomed_plots.items():\n",
    "    # data\n",
    "    d_tmp = get_survey_results(joined)[lab]\n",
    "    \n",
    "    # plot line\n",
    "    a.plot(d_tmp)\n",
    "    \n",
    "    # legend\n",
    "    a.legend([lab], loc='center left',bbox_to_anchor=[1,0.5])\n",
    "    \n",
    "    # connection arrows:\n",
    "    draw_from = {v:k for k,v in original_plots.items()}.get(lab)\n",
    "    y_arrow_pos = d_tmp.iloc[-3:].mean() / chart_ylim[lab]\n",
    "    con = mpl.patches.ConnectionPatch(xyA=(0.8,y_arrow_pos), xyB=(0.3,0.5), \n",
    "                                      coordsA='axes fraction', coordsB='axes fraction',\n",
    "                                      axesA=draw_from, axesB=a,\n",
    "                                     arrowstyle='->', color=\"crimson\", lw=3)\n",
    "    fig.add_artist(con)\n",
    "\n",
    "fig.show()"
   ]
  },
  {
   "cell_type": "code",
   "execution_count": null,
   "id": "6036f4f2",
   "metadata": {},
   "outputs": [],
   "source": [
    "plt.style.available"
   ]
  },
  {
   "cell_type": "code",
   "execution_count": null,
   "id": "1cc0de77",
   "metadata": {
    "scrolled": false
   },
   "outputs": [],
   "source": [
    "\n",
    "for sty in plt.style.available:\n",
    "    plt.style.use(sty)\n",
    "    fig = plt.figure(tight_layout=True, figsize=(8,8))\n",
    "\n",
    "    gs = fig.add_gridspec(5,5)\n",
    "\n",
    "    ax1 = fig.add_subplot(gs[:2,:2])\n",
    "    ax2 = fig.add_subplot(gs[2:,2:])\n",
    "\n",
    "    tmp_d = get_survey_results(joined)['applicant homeless']\n",
    "    ax1.plot(tmp_d)\n",
    "\n",
    "    # set ylimit\n",
    "    mean_yval = tmp_d.mean()\n",
    "    orders_mag = len(str(int(mean_yval))) - 1\n",
    "    y_lim_rounded = round(mean_yval * 2, - orders_mag)\n",
    "    ax1.set_ylim(0, y_lim_rounded)\n",
    "\n",
    "    ax2.plot(tmp_d)\n",
    "\n",
    "    arc_style = mpl.patches.ConnectionStyle.Arc3(rad=-0.2)\n",
    "    con = mpl.patches.ConnectionPatch(xyA=(0.9,0.2),\n",
    "        xyB=(0.2,0.9),\n",
    "        coordsA='axes fraction',\n",
    "        coordsB='axes fraction',\n",
    "        axesA=ax1,\n",
    "        axesB=ax2,\n",
    "        arrowstyle='->',\n",
    "        connectionstyle=arc_style)\n",
    "    fig.add_artist(con)\n",
    "\n",
    "    ax1.set_title('equal yscale from zero')\n",
    "    ax2.set_title('zoomed in')\n",
    "\n",
    "    #annotate in the blank spaces around the charts\n",
    "    ax3 = fig.add_subplot(gs[:2,2:])\n",
    "    ax3.set_axis_off()\n",
    "    ax3.annotate('Zooming in reveals more detail',\n",
    "                 xy=(0,0.2), xycoords='axes fraction')\n",
    "\n",
    "    ax2.annotate('Applicant\\'s that met criteria \\nfor being Homeless',\n",
    "                 xy=(0.5,0.4), xycoords='axes fraction')\n",
    "    fig.suptitle(sty)\n",
    "    fig.show()"
   ]
  },
  {
   "cell_type": "code",
   "execution_count": null,
   "id": "83579bb8",
   "metadata": {},
   "outputs": [],
   "source": [
    "ax3.set_axis_off()"
   ]
  },
  {
   "cell_type": "code",
   "execution_count": null,
   "id": "2bfaac95",
   "metadata": {},
   "outputs": [],
   "source": [
    "ax3.tick_params(grid_alpha=0)"
   ]
  },
  {
   "cell_type": "code",
   "execution_count": null,
   "id": "57226da3",
   "metadata": {},
   "outputs": [],
   "source": [
    "l.set_alpha(0)"
   ]
  },
  {
   "cell_type": "code",
   "execution_count": null,
   "id": "fe3df983",
   "metadata": {},
   "outputs": [],
   "source": [
    "ax.annotate()"
   ]
  },
  {
   "cell_type": "code",
   "execution_count": 12,
   "id": "8785d90c",
   "metadata": {},
   "outputs": [
    {
     "data": {
      "image/png": "[encoded data removed]",
      "text/plain": [
       "<Figure size 432x288 with 1 Axes>"
      ]
     },
     "metadata": {
      "needs_background": "light"
     },
     "output_type": "display_data"
    }
   ],
   "source": [
    "fig,ax = plt.subplots()\n",
    "with plt.style.context('seaborn-colorblind'):\n",
    "    macro_regions = joined[joined.region_type=='2 Regions'].groupby('LA_Name').sum().sort_values(\n",
    "    'Total households assessed as owed a duty').index\n",
    "    \n",
    "    for k,v in {x: get_survey_results(joined,la_name=x) for x in macro_regions}.items():\n",
    "        plt.plot(v['applicant homeless'],label=k)\n",
    "\n",
    "    ax.set_title('applicant homeless')\n",
    "    handles,labels = ax.get_legend_handles_labels()\n",
    "    ax.legend(handles[::-1], labels[::-1], loc='center left', bbox_to_anchor=[1,0.5])"
   ]
  },
  {
   "cell_type": "markdown",
   "id": "14af032b",
   "metadata": {},
   "source": [
    "PRE COVID"
   ]
  },
  {
   "cell_type": "code",
   "execution_count": null,
   "id": "a18f83ce",
   "metadata": {},
   "outputs": [],
   "source": []
  },
  {
   "cell_type": "code",
   "execution_count": null,
   "id": "e55f7701",
   "metadata": {
    "scrolled": true
   },
   "outputs": [],
   "source": [
    "def rescale_min_max(x):\n",
    "    min_val = x.min()\n",
    "    max_val = x.max()\n",
    "    return (x - min_val) / (max_val - min_val)\n",
    "\n",
    "eng = joined[joined['LA_Name'] == 'England'].sort_values('period_end')\n",
    "rescale_min_max(eng['Total number of households assessed1,2']).plot(label='ENG')\n",
    "\n",
    "lond = joined[(joined['LA_Name'] == 'London') & (joined['region_type'] == '2 Regions')].sort_values('period_end')\n",
    "rescale_min_max(lond['Total number of households assessed1,2']).plot(label='LOND')\n",
    "\n",
    "plt.legend()"
   ]
  },
  {
   "cell_type": "code",
   "execution_count": null,
   "id": "0ba4c4d4",
   "metadata": {},
   "outputs": [],
   "source": [
    "# with open('region_lookup.json','r') as f:\n",
    "#     region_lookup = json.load(f)"
   ]
  },
  {
   "cell_type": "code",
   "execution_count": null,
   "id": "c5a0cee3",
   "metadata": {},
   "outputs": [],
   "source": []
  },
  {
   "cell_type": "code",
   "execution_count": null,
   "id": "0284026a",
   "metadata": {},
   "outputs": [],
   "source": []
  },
  {
   "cell_type": "code",
   "execution_count": null,
   "id": "1e386e2a",
   "metadata": {},
   "outputs": [],
   "source": []
  },
  {
   "cell_type": "code",
   "execution_count": null,
   "id": "21dbcf39",
   "metadata": {},
   "outputs": [],
   "source": []
  },
  {
   "cell_type": "code",
   "execution_count": null,
   "id": "58095da0",
   "metadata": {},
   "outputs": [],
   "source": []
  },
  {
   "cell_type": "code",
   "execution_count": null,
   "id": "b408d4cb",
   "metadata": {},
   "outputs": [],
   "source": []
  },
  {
   "cell_type": "code",
   "execution_count": null,
   "id": "bbcad391",
   "metadata": {},
   "outputs": [],
   "source": []
  }
 ],
 "metadata": {
  "kernelspec": {
   "display_name": "Python 3 (ipykernel)",
   "language": "python",
   "name": "python3"
  },
  "language_info": {
   "codemirror_mode": {
    "name": "ipython",
    "version": 3
   },
   "file_extension": ".py",
   "mimetype": "text/x-python",
   "name": "python",
   "nbconvert_exporter": "python",
   "pygments_lexer": "ipython3",
   "version": "3.10.4"
  }
 },
 "nbformat": 4,
 "nbformat_minor": 5
}
